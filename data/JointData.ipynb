{
 "cells": [
  {
   "cell_type": "code",
   "execution_count": 56,
   "metadata": {
    "collapsed": true
   },
   "outputs": [],
   "source": [
    "import numpy as np\n",
    "import pandas as pd\n",
    "import json"
   ]
  },
  {
   "cell_type": "code",
   "execution_count": 34,
   "metadata": {
    "collapsed": false
   },
   "outputs": [],
   "source": [
    "data = pd.read_csv('http://taxbills.nyc/joined.csv',\n",
    "                   usecols = ['borough', 'ucbbl', '2007uc',\n",
    "                              '2008uc', '2009uc', '2010uc',\n",
    "                              '2011uc', '2012uc', '2013uc',\n",
    "                              '2014uc', 'cd', 'zipcode',\n",
    "                              'unitsres'])\n",
    "    \n",
    "#\n",
    "# Make a new row for each year\n",
    "#\n",
    "mdata = pd.melt(data, id_vars = ['borough', 'ucbbl', 'cd', 'zipcode',\n",
    "                                 'unitsres'])\n",
    "mdata.rename(columns = {'variable': 'year',\n",
    "                        'value': 'Nstabilized'}, inplace = True)\n",
    "mdata['year'] = mdata.apply(lambda x: np.int64(x.year[0:4]), axis = 1)\n",
    "\n",
    "    \n",
    "#\n",
    "# Get rid of location identifiers that you're not interested in\n",
    "#     for now\n",
    "#\n",
    "mdata.drop(['borough', 'ucbbl', 'cd'], axis = 1,\n",
    "            inplace = True)\n",
    "     \n",
    "mdata = mdata.groupby(['zipcode', 'year']).sum().reset_index()\n",
    "\n",
    "mdata['Pstabilized'] = mdata['Nstabilized'] / mdata['unitsres']\n",
    "\n",
    "\n",
    "mdata.drop(['unitsres'], axis = 1, inplace = True)"
   ]
  },
  {
   "cell_type": "code",
   "execution_count": 35,
   "metadata": {
    "collapsed": false
   },
   "outputs": [
    {
     "data": {
      "text/html": [
       "<div>\n",
       "<table border=\"1\" class=\"dataframe\">\n",
       "  <thead>\n",
       "    <tr style=\"text-align: right;\">\n",
       "      <th></th>\n",
       "      <th>zipcode</th>\n",
       "      <th>year</th>\n",
       "      <th>Nstabilized</th>\n",
       "      <th>Pstabilized</th>\n",
       "    </tr>\n",
       "  </thead>\n",
       "  <tbody>\n",
       "    <tr>\n",
       "      <th>0</th>\n",
       "      <td>10001</td>\n",
       "      <td>2007</td>\n",
       "      <td>5195</td>\n",
       "      <td>0.532329</td>\n",
       "    </tr>\n",
       "    <tr>\n",
       "      <th>1</th>\n",
       "      <td>10001</td>\n",
       "      <td>2008</td>\n",
       "      <td>5222</td>\n",
       "      <td>0.535096</td>\n",
       "    </tr>\n",
       "    <tr>\n",
       "      <th>2</th>\n",
       "      <td>10001</td>\n",
       "      <td>2009</td>\n",
       "      <td>4703</td>\n",
       "      <td>0.481914</td>\n",
       "    </tr>\n",
       "    <tr>\n",
       "      <th>3</th>\n",
       "      <td>10001</td>\n",
       "      <td>2010</td>\n",
       "      <td>4628</td>\n",
       "      <td>0.474229</td>\n",
       "    </tr>\n",
       "    <tr>\n",
       "      <th>4</th>\n",
       "      <td>10001</td>\n",
       "      <td>2011</td>\n",
       "      <td>4835</td>\n",
       "      <td>0.495440</td>\n",
       "    </tr>\n",
       "  </tbody>\n",
       "</table>\n",
       "</div>"
      ],
      "text/plain": [
       "   zipcode  year  Nstabilized  Pstabilized\n",
       "0    10001  2007         5195     0.532329\n",
       "1    10001  2008         5222     0.535096\n",
       "2    10001  2009         4703     0.481914\n",
       "3    10001  2010         4628     0.474229\n",
       "4    10001  2011         4835     0.495440"
      ]
     },
     "execution_count": 35,
     "metadata": {},
     "output_type": "execute_result"
    }
   ],
   "source": [
    "mdata.head()"
   ]
  },
  {
   "cell_type": "code",
   "execution_count": 36,
   "metadata": {
    "collapsed": false
   },
   "outputs": [
    {
     "name": "stdout",
     "output_type": "stream",
     "text": [
      "(1416, 4)\n",
      "(1406, 4)\n",
      "zipcode          int64\n",
      "year             int64\n",
      "Nstabilized      int64\n",
      "Pstabilized    float64\n",
      "dtype: object\n"
     ]
    }
   ],
   "source": [
    "  \n",
    "#\n",
    "# Drop values with NA zipcodes\n",
    "#\n",
    "print(mdata.shape)\n",
    "mdata.dropna(inplace = True)\n",
    "print(mdata.shape)\n",
    "mdata['zipcode'] = mdata['zipcode'].astype(int)\n",
    "mdata['Nstabilized'] = mdata['Nstabilized'].astype(int)\n",
    "print(mdata.dtypes)\n",
    "\n",
    "#\n",
    "# Save to CSV\n",
    "#\n",
    "mdata.to_csv('stabilized.csv', index = False)\n",
    "    "
   ]
  },
  {
   "cell_type": "code",
   "execution_count": 37,
   "metadata": {
    "collapsed": false
   },
   "outputs": [
    {
     "data": {
      "text/html": [
       "<div>\n",
       "<table border=\"1\" class=\"dataframe\">\n",
       "  <thead>\n",
       "    <tr style=\"text-align: right;\">\n",
       "      <th></th>\n",
       "      <th>zipcode</th>\n",
       "      <th>year</th>\n",
       "      <th>Nstabilized</th>\n",
       "      <th>Pstabilized</th>\n",
       "    </tr>\n",
       "  </thead>\n",
       "  <tbody>\n",
       "    <tr>\n",
       "      <th>0</th>\n",
       "      <td>10001</td>\n",
       "      <td>2007</td>\n",
       "      <td>5195</td>\n",
       "      <td>0.532329</td>\n",
       "    </tr>\n",
       "    <tr>\n",
       "      <th>1</th>\n",
       "      <td>10001</td>\n",
       "      <td>2008</td>\n",
       "      <td>5222</td>\n",
       "      <td>0.535096</td>\n",
       "    </tr>\n",
       "    <tr>\n",
       "      <th>2</th>\n",
       "      <td>10001</td>\n",
       "      <td>2009</td>\n",
       "      <td>4703</td>\n",
       "      <td>0.481914</td>\n",
       "    </tr>\n",
       "    <tr>\n",
       "      <th>3</th>\n",
       "      <td>10001</td>\n",
       "      <td>2010</td>\n",
       "      <td>4628</td>\n",
       "      <td>0.474229</td>\n",
       "    </tr>\n",
       "    <tr>\n",
       "      <th>4</th>\n",
       "      <td>10001</td>\n",
       "      <td>2011</td>\n",
       "      <td>4835</td>\n",
       "      <td>0.495440</td>\n",
       "    </tr>\n",
       "  </tbody>\n",
       "</table>\n",
       "</div>"
      ],
      "text/plain": [
       "   zipcode  year  Nstabilized  Pstabilized\n",
       "0    10001  2007         5195     0.532329\n",
       "1    10001  2008         5222     0.535096\n",
       "2    10001  2009         4703     0.481914\n",
       "3    10001  2010         4628     0.474229\n",
       "4    10001  2011         4835     0.495440"
      ]
     },
     "execution_count": 37,
     "metadata": {},
     "output_type": "execute_result"
    }
   ],
   "source": [
    "mdata.head()"
   ]
  },
  {
   "cell_type": "code",
   "execution_count": 38,
   "metadata": {
    "collapsed": false
   },
   "outputs": [
    {
     "data": {
      "text/html": [
       "<div>\n",
       "<table border=\"1\" class=\"dataframe\">\n",
       "  <thead>\n",
       "    <tr style=\"text-align: right;\">\n",
       "      <th></th>\n",
       "      <th>zipcode</th>\n",
       "      <th>year</th>\n",
       "      <th>complaint_count</th>\n",
       "    </tr>\n",
       "  </thead>\n",
       "  <tbody>\n",
       "    <tr>\n",
       "      <th>0</th>\n",
       "      <td>10001</td>\n",
       "      <td>2010</td>\n",
       "      <td>648</td>\n",
       "    </tr>\n",
       "    <tr>\n",
       "      <th>1</th>\n",
       "      <td>10001</td>\n",
       "      <td>2011</td>\n",
       "      <td>468</td>\n",
       "    </tr>\n",
       "    <tr>\n",
       "      <th>2</th>\n",
       "      <td>10001</td>\n",
       "      <td>2012</td>\n",
       "      <td>344</td>\n",
       "    </tr>\n",
       "    <tr>\n",
       "      <th>3</th>\n",
       "      <td>10001</td>\n",
       "      <td>2013</td>\n",
       "      <td>289</td>\n",
       "    </tr>\n",
       "    <tr>\n",
       "      <th>4</th>\n",
       "      <td>10001</td>\n",
       "      <td>2014</td>\n",
       "      <td>437</td>\n",
       "    </tr>\n",
       "  </tbody>\n",
       "</table>\n",
       "</div>"
      ],
      "text/plain": [
       "   zipcode  year  complaint_count\n",
       "0    10001  2010              648\n",
       "1    10001  2011              468\n",
       "2    10001  2012              344\n",
       "3    10001  2013              289\n",
       "4    10001  2014              437"
      ]
     },
     "execution_count": 38,
     "metadata": {},
     "output_type": "execute_result"
    }
   ],
   "source": [
    "data = pd.read_csv('data/311_Heat_Seek_Subset.csv', \n",
    "                   usecols = [1, 5, 8], header = None)\n",
    "data.rename(columns = {1: 'year', 5: 'complaint_type', 8: 'zipcode'}, inplace = True)\n",
    "data['year'] = data['year'].apply(lambda x: x[6:10])\n",
    "data = data.groupby(['zipcode', 'year']).count().reset_index()\n",
    "data.rename(columns = {'complaint_type': 'complaint_count'}, inplace = True)\n",
    "\n",
    "data['year'] = data['year'].astype(np.int64)\n",
    "data['zipcode'] = data['zipcode'].astype(np.int64)\n",
    "\n",
    "data.head()"
   ]
  },
  {
   "cell_type": "code",
   "execution_count": 39,
   "metadata": {
    "collapsed": false
   },
   "outputs": [
    {
     "name": "stdout",
     "output_type": "stream",
     "text": [
      "zipcode            int64\n",
      "year               int64\n",
      "complaint_count    int64\n",
      "dtype: object\n",
      "zipcode          int64\n",
      "year             int64\n",
      "Nstabilized      int64\n",
      "Pstabilized    float64\n",
      "dtype: object\n"
     ]
    }
   ],
   "source": [
    "print(data.dtypes)\n",
    "print(mdata.dtypes)"
   ]
  },
  {
   "cell_type": "code",
   "execution_count": 40,
   "metadata": {
    "collapsed": false
   },
   "outputs": [
    {
     "data": {
      "text/html": [
       "<div>\n",
       "<table border=\"1\" class=\"dataframe\">\n",
       "  <thead>\n",
       "    <tr style=\"text-align: right;\">\n",
       "      <th></th>\n",
       "      <th>zipcode</th>\n",
       "      <th>year</th>\n",
       "      <th>complaint_count</th>\n",
       "      <th>Nstabilized</th>\n",
       "      <th>Pstabilized</th>\n",
       "    </tr>\n",
       "  </thead>\n",
       "  <tbody>\n",
       "    <tr>\n",
       "      <th>0</th>\n",
       "      <td>10001</td>\n",
       "      <td>2010</td>\n",
       "      <td>648</td>\n",
       "      <td>4628</td>\n",
       "      <td>0.474229</td>\n",
       "    </tr>\n",
       "    <tr>\n",
       "      <th>1</th>\n",
       "      <td>10001</td>\n",
       "      <td>2011</td>\n",
       "      <td>468</td>\n",
       "      <td>4835</td>\n",
       "      <td>0.495440</td>\n",
       "    </tr>\n",
       "    <tr>\n",
       "      <th>2</th>\n",
       "      <td>10001</td>\n",
       "      <td>2012</td>\n",
       "      <td>344</td>\n",
       "      <td>5514</td>\n",
       "      <td>0.565017</td>\n",
       "    </tr>\n",
       "    <tr>\n",
       "      <th>3</th>\n",
       "      <td>10001</td>\n",
       "      <td>2013</td>\n",
       "      <td>289</td>\n",
       "      <td>5228</td>\n",
       "      <td>0.535711</td>\n",
       "    </tr>\n",
       "    <tr>\n",
       "      <th>4</th>\n",
       "      <td>10001</td>\n",
       "      <td>2014</td>\n",
       "      <td>437</td>\n",
       "      <td>5032</td>\n",
       "      <td>0.515627</td>\n",
       "    </tr>\n",
       "  </tbody>\n",
       "</table>\n",
       "</div>"
      ],
      "text/plain": [
       "   zipcode  year  complaint_count  Nstabilized  Pstabilized\n",
       "0    10001  2010              648         4628     0.474229\n",
       "1    10001  2011              468         4835     0.495440\n",
       "2    10001  2012              344         5514     0.565017\n",
       "3    10001  2013              289         5228     0.535711\n",
       "4    10001  2014              437         5032     0.515627"
      ]
     },
     "execution_count": 40,
     "metadata": {},
     "output_type": "execute_result"
    }
   ],
   "source": [
    "merge_data = pd.merge(data, mdata, how = 'inner', on = ['zipcode', 'year'])\n",
    "merge_data.head()"
   ]
  },
  {
   "cell_type": "code",
   "execution_count": 71,
   "metadata": {
    "collapsed": false
   },
   "outputs": [
    {
     "data": {
      "text/plain": [
       "(array([], dtype=int64),)"
      ]
     },
     "execution_count": 71,
     "metadata": {},
     "output_type": "execute_result"
    }
   ],
   "source": [
    "ind = np.where(np.isinf(merge_data['Pstabilized']))\n",
    "ind\n",
    "merge_data.iloc[255]\n",
    "merge_data.drop(merge_data.index[np.where(np.isinf(merge_data['Pstabilized']))], inplace = True)\n",
    "ind = np.where(np.isinf(merge_data['Pstabilized']))\n",
    "ind"
   ]
  },
  {
   "cell_type": "code",
   "execution_count": 72,
   "metadata": {
    "collapsed": true
   },
   "outputs": [],
   "source": [
    "merge_data.to_csv('jointdata.csv')"
   ]
  },
  {
   "cell_type": "code",
   "execution_count": 73,
   "metadata": {
    "collapsed": false
   },
   "outputs": [],
   "source": [
    "output_json = {}\n",
    "output_json['type'] = 'zipcode_data_collection'\n",
    "output_json['features'] = []\n",
    "\n",
    "for zc in np.unique(merge_data['zipcode'].values):\n",
    "    entry = {}\n",
    "    entry['zipcode'] = zc\n",
    "    \n",
    "    entry['data'] = []\n",
    "    hold = merge_data[merge_data.zipcode == zc]\n",
    "    for ind, row in hold.iterrows():\n",
    "        data_entry = {}\n",
    "        data_entry['year'] = row['year']\n",
    "        data_entry['complaint_count'] = row['complaint_count']\n",
    "        data_entry['percent_stabilized'] = row['Pstabilized']\n",
    "        data_entry['number_stabilized'] = row['Nstabilized']\n",
    "        entry['data'].append(data_entry)\n",
    "        \n",
    "    output_json['features'].append(entry)"
   ]
  },
  {
   "cell_type": "code",
   "execution_count": 74,
   "metadata": {
    "collapsed": false
   },
   "outputs": [],
   "source": [
    "with open('jointdata.json', 'w') as f:\n",
    "    json.dump(output_json, f)"
   ]
  },
  {
   "cell_type": "code",
   "execution_count": null,
   "metadata": {
    "collapsed": true
   },
   "outputs": [],
   "source": []
  }
 ],
 "metadata": {
  "kernelspec": {
   "display_name": "Python 2",
   "language": "python",
   "name": "python2"
  },
  "language_info": {
   "codemirror_mode": {
    "name": "ipython",
    "version": 2
   },
   "file_extension": ".py",
   "mimetype": "text/x-python",
   "name": "python",
   "nbconvert_exporter": "python",
   "pygments_lexer": "ipython2",
   "version": "2.7.6"
  }
 },
 "nbformat": 4,
 "nbformat_minor": 0
}
