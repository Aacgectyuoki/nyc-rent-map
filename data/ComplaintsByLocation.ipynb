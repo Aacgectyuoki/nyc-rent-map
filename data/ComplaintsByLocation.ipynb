{
 "cells": [
  {
   "cell_type": "code",
   "execution_count": 40,
   "metadata": {
    "collapsed": false
   },
   "outputs": [
    {
     "data": {
      "text/html": [
       "<div>\n",
       "<table border=\"1\" class=\"dataframe\">\n",
       "  <thead>\n",
       "    <tr style=\"text-align: right;\">\n",
       "      <th></th>\n",
       "      <th>Created Date</th>\n",
       "      <th>Complaint Type</th>\n",
       "      <th>Latitude</th>\n",
       "      <th>Longitude</th>\n",
       "      <th>bbl</th>\n",
       "    </tr>\n",
       "  </thead>\n",
       "  <tbody>\n",
       "    <tr>\n",
       "      <th>0</th>\n",
       "      <td>02/17/2014 05:33:24 PM</td>\n",
       "      <td>General Construction/Plumbing</td>\n",
       "      <td>40.833111</td>\n",
       "      <td>-73.869561</td>\n",
       "      <td>2099998900</td>\n",
       "    </tr>\n",
       "    <tr>\n",
       "      <th>1</th>\n",
       "      <td>02/17/2014 05:27:59 PM</td>\n",
       "      <td>General Construction/Plumbing</td>\n",
       "      <td>40.836302</td>\n",
       "      <td>-73.852812</td>\n",
       "      <td>2099998900</td>\n",
       "    </tr>\n",
       "    <tr>\n",
       "      <th>2</th>\n",
       "      <td>02/17/2014 05:27:00 PM</td>\n",
       "      <td>Snow</td>\n",
       "      <td>40.827145</td>\n",
       "      <td>-73.847961</td>\n",
       "      <td>2099998900</td>\n",
       "    </tr>\n",
       "    <tr>\n",
       "      <th>3</th>\n",
       "      <td>02/17/2014 05:25:24 PM</td>\n",
       "      <td>Blocked Driveway</td>\n",
       "      <td>40.845491</td>\n",
       "      <td>-73.852578</td>\n",
       "      <td>2099998900</td>\n",
       "    </tr>\n",
       "    <tr>\n",
       "      <th>4</th>\n",
       "      <td>02/17/2014 05:22:44 PM</td>\n",
       "      <td>Building/Use</td>\n",
       "      <td>40.856630</td>\n",
       "      <td>-73.840563</td>\n",
       "      <td>2042220046</td>\n",
       "    </tr>\n",
       "  </tbody>\n",
       "</table>\n",
       "</div>"
      ],
      "text/plain": [
       "             Created Date                 Complaint Type   Latitude  \\\n",
       "0  02/17/2014 05:33:24 PM  General Construction/Plumbing  40.833111   \n",
       "1  02/17/2014 05:27:59 PM  General Construction/Plumbing  40.836302   \n",
       "2  02/17/2014 05:27:00 PM                           Snow  40.827145   \n",
       "3  02/17/2014 05:25:24 PM               Blocked Driveway  40.845491   \n",
       "4  02/17/2014 05:22:44 PM                   Building/Use  40.856630   \n",
       "\n",
       "   Longitude         bbl  \n",
       "0 -73.869561  2099998900  \n",
       "1 -73.852812  2099998900  \n",
       "2 -73.847961  2099998900  \n",
       "3 -73.852578  2099998900  \n",
       "4 -73.840563  2042220046  "
      ]
     },
     "execution_count": 40,
     "metadata": {},
     "output_type": "execute_result"
    }
   ],
   "source": [
    "import numpy as np\n",
    "import pandas as pd\n",
    "import json\n",
    "\n",
    "raw = pd.read_csv('311withbbls.csv.tar.gz', compression='gzip',\n",
    "                   usecols = ['Created Date', 'Latitude', 'Longitude', 'bbl', 'Complaint Type'])\n",
    "raw.head()"
   ]
  },
  {
   "cell_type": "code",
   "execution_count": 41,
   "metadata": {
    "collapsed": false
   },
   "outputs": [
    {
     "data": {
      "text/html": [
       "<div>\n",
       "<table border=\"1\" class=\"dataframe\">\n",
       "  <thead>\n",
       "    <tr style=\"text-align: right;\">\n",
       "      <th></th>\n",
       "      <th>Year</th>\n",
       "      <th>Complaint Type</th>\n",
       "      <th>Latitude</th>\n",
       "      <th>Longitude</th>\n",
       "      <th>bbl</th>\n",
       "    </tr>\n",
       "  </thead>\n",
       "  <tbody>\n",
       "    <tr>\n",
       "      <th>0</th>\n",
       "      <td>2014</td>\n",
       "      <td>General Construction/Plumbing</td>\n",
       "      <td>40.833111</td>\n",
       "      <td>-73.869561</td>\n",
       "      <td>2099998900</td>\n",
       "    </tr>\n",
       "    <tr>\n",
       "      <th>1</th>\n",
       "      <td>2014</td>\n",
       "      <td>General Construction/Plumbing</td>\n",
       "      <td>40.836302</td>\n",
       "      <td>-73.852812</td>\n",
       "      <td>2099998900</td>\n",
       "    </tr>\n",
       "    <tr>\n",
       "      <th>2</th>\n",
       "      <td>2014</td>\n",
       "      <td>Snow</td>\n",
       "      <td>40.827145</td>\n",
       "      <td>-73.847961</td>\n",
       "      <td>2099998900</td>\n",
       "    </tr>\n",
       "    <tr>\n",
       "      <th>3</th>\n",
       "      <td>2014</td>\n",
       "      <td>Blocked Driveway</td>\n",
       "      <td>40.845491</td>\n",
       "      <td>-73.852578</td>\n",
       "      <td>2099998900</td>\n",
       "    </tr>\n",
       "    <tr>\n",
       "      <th>4</th>\n",
       "      <td>2014</td>\n",
       "      <td>Building/Use</td>\n",
       "      <td>40.856630</td>\n",
       "      <td>-73.840563</td>\n",
       "      <td>2042220046</td>\n",
       "    </tr>\n",
       "  </tbody>\n",
       "</table>\n",
       "</div>"
      ],
      "text/plain": [
       "   Year                 Complaint Type   Latitude  Longitude         bbl\n",
       "0  2014  General Construction/Plumbing  40.833111 -73.869561  2099998900\n",
       "1  2014  General Construction/Plumbing  40.836302 -73.852812  2099998900\n",
       "2  2014                           Snow  40.827145 -73.847961  2099998900\n",
       "3  2014               Blocked Driveway  40.845491 -73.852578  2099998900\n",
       "4  2014                   Building/Use  40.856630 -73.840563  2042220046"
      ]
     },
     "execution_count": 41,
     "metadata": {},
     "output_type": "execute_result"
    }
   ],
   "source": [
    "# Take only the year portion of \"Created Date\"\n",
    "\n",
    "data = raw.rename(columns = {'Created Date': 'Year'})\n",
    "data['Year'] = data.apply(lambda x: np.int64(x.Year[6:10]), axis = 1)\n",
    "data.dropna(inplace = True)\n",
    "data.head()\n"
   ]
  },
  {
   "cell_type": "code",
   "execution_count": 46,
   "metadata": {
    "collapsed": false
   },
   "outputs": [
    {
     "data": {
      "text/html": [
       "<div>\n",
       "<table border=\"1\" class=\"dataframe\">\n",
       "  <thead>\n",
       "    <tr style=\"text-align: right;\">\n",
       "      <th></th>\n",
       "      <th>Year</th>\n",
       "      <th>Complaint Type</th>\n",
       "      <th>bbl</th>\n",
       "      <th>Latitude</th>\n",
       "      <th>Longitude</th>\n",
       "      <th>Complaints Count</th>\n",
       "    </tr>\n",
       "  </thead>\n",
       "  <tbody>\n",
       "    <tr>\n",
       "      <th>0</th>\n",
       "      <td>2010</td>\n",
       "      <td>APPLIANCE</td>\n",
       "      <td>2000008900</td>\n",
       "      <td>40.854424</td>\n",
       "      <td>-73.908837</td>\n",
       "      <td>270</td>\n",
       "    </tr>\n",
       "    <tr>\n",
       "      <th>1</th>\n",
       "      <td>2010</td>\n",
       "      <td>APPLIANCE</td>\n",
       "      <td>2022670044</td>\n",
       "      <td>40.807918</td>\n",
       "      <td>-73.917972</td>\n",
       "      <td>1</td>\n",
       "    </tr>\n",
       "    <tr>\n",
       "      <th>2</th>\n",
       "      <td>2010</td>\n",
       "      <td>APPLIANCE</td>\n",
       "      <td>2022690001</td>\n",
       "      <td>40.810550</td>\n",
       "      <td>-73.917262</td>\n",
       "      <td>5</td>\n",
       "    </tr>\n",
       "    <tr>\n",
       "      <th>3</th>\n",
       "      <td>2010</td>\n",
       "      <td>APPLIANCE</td>\n",
       "      <td>2022690021</td>\n",
       "      <td>40.809934</td>\n",
       "      <td>-73.916369</td>\n",
       "      <td>1</td>\n",
       "    </tr>\n",
       "    <tr>\n",
       "      <th>4</th>\n",
       "      <td>2010</td>\n",
       "      <td>APPLIANCE</td>\n",
       "      <td>2022710005</td>\n",
       "      <td>40.812113</td>\n",
       "      <td>-73.915897</td>\n",
       "      <td>1</td>\n",
       "    </tr>\n",
       "  </tbody>\n",
       "</table>\n",
       "</div>"
      ],
      "text/plain": [
       "   Year Complaint Type         bbl   Latitude  Longitude  Complaints Count\n",
       "0  2010      APPLIANCE  2000008900  40.854424 -73.908837               270\n",
       "1  2010      APPLIANCE  2022670044  40.807918 -73.917972                 1\n",
       "2  2010      APPLIANCE  2022690001  40.810550 -73.917262                 5\n",
       "3  2010      APPLIANCE  2022690021  40.809934 -73.916369                 1\n",
       "4  2010      APPLIANCE  2022710005  40.812113 -73.915897                 1"
      ]
     },
     "execution_count": 46,
     "metadata": {},
     "output_type": "execute_result"
    }
   ],
   "source": [
    "# Group together and count complaints of the same type from the same BBL in the same year\n",
    "\n",
    "groupby_obj = data[['Year', 'Complaint Type', 'Latitude','Longitude','bbl']].groupby(['Year', 'Complaint Type', 'bbl'])\n",
    "counted = groupby_obj.agg('mean')\\\n",
    "    .join(pd.DataFrame(groupby_obj.size(), columns=['Complaints Count']))\\\n",
    "    .reset_index()\n",
    "counted['Year'] = counted['Year'].astype(np.int64)\n",
    "counted['bbl'] = counted['bbl'].astype(np.int64)\n",
    "counted.head()"
   ]
  },
  {
   "cell_type": "code",
   "execution_count": 47,
   "metadata": {
    "collapsed": false
   },
   "outputs": [
    {
     "name": "stdout",
     "output_type": "stream",
     "text": [
      "(133422, 6)\n",
      "                Year           bbl       Latitude      Longitude  \\\n",
      "count  133422.000000  1.334220e+05  133422.000000  133422.000000   \n",
      "mean     2012.619501  2.034584e+09      40.849347     -73.890990   \n",
      "std         1.745382  1.165353e+07       0.024941       0.028864   \n",
      "min      2010.000000  2.000009e+09      40.788286     -73.933546   \n",
      "25%      2011.000000  2.026980e+09      40.830371     -73.912566   \n",
      "50%      2013.000000  2.031320e+09      40.847138     -73.898344   \n",
      "75%      2014.000000  2.036810e+09      40.868811     -73.880914   \n",
      "max      2015.000000  2.099999e+09      40.912572     -73.782065   \n",
      "\n",
      "       Complaints Count  \n",
      "count     133422.000000  \n",
      "mean           7.515237  \n",
      "std           77.393029  \n",
      "min            1.000000  \n",
      "25%            1.000000  \n",
      "50%            2.000000  \n",
      "75%            4.000000  \n",
      "max         8459.000000  \n"
     ]
    }
   ],
   "source": [
    "print (counted.shape)\n",
    "print (counted.describe())\n",
    "\n",
    "# counted.to_csv('ComplaintCountByBBL.csv', index = False)\n"
   ]
  },
  {
   "cell_type": "code",
   "execution_count": 48,
   "metadata": {
    "collapsed": false
   },
   "outputs": [],
   "source": [
    "output = {}\n",
    "\n",
    "for year in np.unique(counted['Year'].values):\n",
    "    output[year] = []\n",
    "    hold = counted[counted.Year == year]\n",
    "    for index,row in hold.iterrows():\n",
    "        entry = {}\n",
    "        entry['bbl'] = row['bbl']\n",
    "        entry['latitude'] = row['Latitude']\n",
    "        entry['longitutde'] = row['Longitude']\n",
    "        entry['complaint_count'] = row['Complaints Count']\n",
    "        entry['complaint_type'] = row['Complaint Type']\n",
    "        output[year].append(entry)\n",
    "        \n",
    "with open('complaintByBBL.json', 'w') as f:\n",
    "    json.dump(output, f)"
   ]
  },
  {
   "cell_type": "code",
   "execution_count": null,
   "metadata": {
    "collapsed": true
   },
   "outputs": [],
   "source": [
    "print (output['2010'])"
   ]
  }
 ],
 "metadata": {
  "kernelspec": {
   "display_name": "Python 2",
   "language": "python",
   "name": "python2"
  },
  "language_info": {
   "codemirror_mode": {
    "name": "ipython",
    "version": 2
   },
   "file_extension": ".py",
   "mimetype": "text/x-python",
   "name": "python",
   "nbconvert_exporter": "python",
   "pygments_lexer": "ipython2",
   "version": "2.7.6"
  }
 },
 "nbformat": 4,
 "nbformat_minor": 0
}
